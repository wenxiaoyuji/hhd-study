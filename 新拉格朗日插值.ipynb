{
 "cells": [
  {
   "cell_type": "code",
   "execution_count": 83,
   "metadata": {},
   "outputs": [],
   "source": [
    "def Lagrange(x,y,z):  #  定义拉格朗日插值多项式\n",
    "    sum=[ ]\n",
    "    n=len(x)\n",
    "    m=len(z)\n",
    "    \n",
    "    for j in range(m):\n",
    "        la=0\n",
    "        for k in range(n):\n",
    "            \n",
    "            def L(k):   # 定义嵌套函数l_k(x)  \n",
    "                t=1\n",
    "                for i in range(n):\n",
    "                    if i!=k:\n",
    "                        t=t*(z[j]-x[i])/(x[k]-x[i])\n",
    "                    else:\n",
    "                        t=t\n",
    "                return t\n",
    "            \n",
    "            la=la+y[k]*L(k)\n",
    "            \n",
    "        sum.append(la)\n",
    "        \n",
    "    return sum\n"
   ]
  },
  {
   "cell_type": "code",
   "execution_count": 84,
   "metadata": {},
   "outputs": [],
   "source": [
    "x=[0.32,0.34,0.36]\n",
    "y=[0.314567,0.333487,0.352274]\n",
    "z=[0.3367]"
   ]
  },
  {
   "cell_type": "code",
   "execution_count": 85,
   "metadata": {},
   "outputs": [
    {
     "data": {
      "text/plain": [
       "[0.3303743620374999]"
      ]
     },
     "execution_count": 85,
     "metadata": {},
     "output_type": "execute_result"
    }
   ],
   "source": [
    "Lagrange(x,y,z)"
   ]
  },
  {
   "cell_type": "code",
   "execution_count": 86,
   "metadata": {},
   "outputs": [],
   "source": [
    "x=[0.56160,0.56280,0.56401,0.56521]\n",
    "y=[0.82741,0.82659,0.82577,0.82495]\n",
    "z=[0.5625,0.5635,0.5645]"
   ]
  },
  {
   "cell_type": "code",
   "execution_count": 87,
   "metadata": {},
   "outputs": [
    {
     "data": {
      "text/plain": [
       "[0.8267938380156361, 0.8261156638643178, 0.8254367497196052]"
      ]
     },
     "execution_count": 87,
     "metadata": {},
     "output_type": "execute_result"
    }
   ],
   "source": [
    "Lagrange(x,y,z)"
   ]
  },
  {
   "cell_type": "code",
   "execution_count": null,
   "metadata": {},
   "outputs": [],
   "source": []
  }
 ],
 "metadata": {
  "kernelspec": {
   "display_name": "Python 3",
   "language": "python",
   "name": "python3"
  },
  "language_info": {
   "codemirror_mode": {
    "name": "ipython",
    "version": 3
   },
   "file_extension": ".py",
   "mimetype": "text/x-python",
   "name": "python",
   "nbconvert_exporter": "python",
   "pygments_lexer": "ipython3",
   "version": "3.6.5"
  }
 },
 "nbformat": 4,
 "nbformat_minor": 2
}
