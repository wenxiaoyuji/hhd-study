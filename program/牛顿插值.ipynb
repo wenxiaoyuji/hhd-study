{
 "cells": [
  {
   "cell_type": "code",
   "execution_count": 78,
   "metadata": {},
   "outputs": [],
   "source": [
    "import numpy as np\n",
    "def juncha(x=[],y=[]):   #构造均差矩阵\n",
    "    n=len(x)\n",
    "    i=0\n",
    "    z = np.zeros((n,n))   \n",
    "    while i < n-1:       #i表示几阶均差\n",
    "        j=n-1\n",
    "        while j>i:\n",
    "            if i==0:     #i=0表示1阶均差\n",
    "                z[j][i]=(y[j]-y[j-1])/(x[j]-x[j-1])\n",
    "            else:\n",
    "                z[j][i]=(z[j][i-1]-z[j-1][i-1])/(x[j]-x[j-i-1])\n",
    "            j=j-1\n",
    "        i=i+1\n",
    "    \n",
    "    bi=[]\n",
    "    for k in range(n):   #构造牛顿插值多项式均差系数列表\n",
    "        bi.append(z[k][k-1])\n",
    "    print(bi)    \n",
    "    return z,bi\n"
   ]
  },
  {
   "cell_type": "code",
   "execution_count": 79,
   "metadata": {},
   "outputs": [
    {
     "name": "stdout",
     "output_type": "stream",
     "text": [
      "[0.0, 1.1160000000000001, 0.27999999999999758, 0.19733333333334047, 0.03123809523812543, 0.00029304029277280681]\n"
     ]
    },
    {
     "data": {
      "text/plain": [
       "(array([[  0.00000000e+00,   0.00000000e+00,   0.00000000e+00,\n",
       "           0.00000000e+00,   0.00000000e+00,   0.00000000e+00],\n",
       "        [  1.11600000e+00,   0.00000000e+00,   0.00000000e+00,\n",
       "           0.00000000e+00,   0.00000000e+00,   0.00000000e+00],\n",
       "        [  1.18600000e+00,   2.80000000e-01,   0.00000000e+00,\n",
       "           0.00000000e+00,   0.00000000e+00,   0.00000000e+00],\n",
       "        [  1.27573333e+00,   3.58933333e-01,   1.97333333e-01,\n",
       "           0.00000000e+00,   0.00000000e+00,   0.00000000e+00],\n",
       "        [  1.38410000e+00,   4.33466667e-01,   2.12952381e-01,\n",
       "           3.12380952e-02,   0.00000000e+00,   0.00000000e+00],\n",
       "        [  1.51533333e+00,   5.24933333e-01,   2.28666667e-01,\n",
       "           3.14285714e-02,   2.93040293e-04,   0.00000000e+00]]),\n",
       " [0.0,\n",
       "  1.1160000000000001,\n",
       "  0.27999999999999758,\n",
       "  0.19733333333334047,\n",
       "  0.03123809523812543,\n",
       "  0.00029304029277280681])"
      ]
     },
     "execution_count": 79,
     "metadata": {},
     "output_type": "execute_result"
    }
   ],
   "source": [
    "x = [0.40,0.55,0.65,0.80,0.90,1.05]\n",
    "y = [0.41075,0.57815,0.69675,0.88811,1.02652,1.25382]\n",
    "juncha(x,y)"
   ]
  },
  {
   "cell_type": "code",
   "execution_count": 89,
   "metadata": {},
   "outputs": [],
   "source": [
    "def newton(we,bi):  #构造牛顿插值多项式\n",
    "    n=len(bi)         \n",
    "    sum=0\n",
    "    for i in range(n):\n",
    "        if i==0:\n",
    "            sum=y[0]\n",
    "        else:\n",
    "            ch=1\n",
    "            for j in range(i):   #构造w_n(x)\n",
    "                ch=ch*(we-x[j])\n",
    "            ch=ch*bi[i]\n",
    "            sum=sum+ch\n",
    "          \n",
    "    return sum"
   ]
  },
  {
   "cell_type": "code",
   "execution_count": 90,
   "metadata": {},
   "outputs": [],
   "source": [
    "bi=[0.0,\n",
    "  1.1160000000000001,\n",
    "  0.27999999999999758,\n",
    "  0.19733333333334047,\n",
    "  0.03123809523812543,\n",
    "  0.00029304029277280681]"
   ]
  },
  {
   "cell_type": "code",
   "execution_count": 91,
   "metadata": {},
   "outputs": [
    {
     "data": {
      "text/plain": [
       "0.6319174992317454"
      ]
     },
     "execution_count": 91,
     "metadata": {},
     "output_type": "execute_result"
    }
   ],
   "source": [
    "newton(0.596,bi)"
   ]
  }
 ],
 "metadata": {
  "kernelspec": {
   "display_name": "Python 3",
   "language": "python",
   "name": "python3"
  },
  "language_info": {
   "codemirror_mode": {
    "name": "ipython",
    "version": 3
   },
   "file_extension": ".py",
   "mimetype": "text/x-python",
   "name": "python",
   "nbconvert_exporter": "python",
   "pygments_lexer": "ipython3",
   "version": "3.6.5"
  }
 },
 "nbformat": 4,
 "nbformat_minor": 2
}
