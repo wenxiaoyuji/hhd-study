{
 "cells": [
  {
   "cell_type": "code",
   "execution_count": 1,
   "metadata": {},
   "outputs": [
    {
     "name": "stdout",
     "output_type": "stream",
     "text": [
      "请输入一个正整数2\n"
     ]
    }
   ],
   "source": [
    "import numpy as np\n",
    "import math\n",
    "pi = math.pi\n",
    "\n",
    "n = input(\"请输入一个正整数\")\n",
    "n = int(n)\n",
    "h = 1/n    #把区间[0,1]*[0,1]均匀剖分，步长为h\n",
    "\n",
    "\n",
    "node = np.zeros(((n+1)*(n+1),2))  # 组装node\n",
    "\n",
    "for j0 in range(n+1):    \n",
    "    for i0 in range(n+1):\n",
    "        node[i0 + (j0)*(n+1),0] = i0*h\n",
    "        node[i0 + (j0)*(n+1),1] = j0*h\n",
    "        \n",
    "\n",
    "        \n",
    "cell = np.zeros((2*n**2,3))   # 组装cell\n",
    "\n",
    "for j1 in range(n):   \n",
    "    for i1 in range(n):\n",
    "        cell[i1+ j1*n ,0] = i1 + j1*(n+1)\n",
    "        cell[i1+ j1*n ,1] = i1 + j1*(n+1) + 1  \n",
    "        cell[i1+ j1*n ,2] = i1 + j1*(n+1) + n + 2\n",
    "        \n",
    "for j2 in range(n):\n",
    "    for i2 in range(n):\n",
    "        cell[i2+ j2*n + n**2 ,0] = i2 + j2*(n+1) + n + 2\n",
    "        cell[i2+ j2*n + n**2 ,1] = i2 + j2*(n+1) + n + 1  \n",
    "        cell[i2+ j2*n + n**2 ,2] = i2 + j2*(n+1)\n",
    "        "
   ]
  },
  {
   "cell_type": "code",
   "execution_count": 2,
   "metadata": {},
   "outputs": [
    {
     "data": {
      "text/plain": [
       "array([[ 0. ,  0. ],\n",
       "       [ 0.5,  0. ],\n",
       "       [ 1. ,  0. ],\n",
       "       [ 0. ,  0.5],\n",
       "       [ 0.5,  0.5],\n",
       "       [ 1. ,  0.5],\n",
       "       [ 0. ,  1. ],\n",
       "       [ 0.5,  1. ],\n",
       "       [ 1. ,  1. ]])"
      ]
     },
     "execution_count": 2,
     "metadata": {},
     "output_type": "execute_result"
    }
   ],
   "source": [
    "node"
   ]
  },
  {
   "cell_type": "code",
   "execution_count": 3,
   "metadata": {},
   "outputs": [
    {
     "data": {
      "text/plain": [
       "9"
      ]
     },
     "execution_count": 3,
     "metadata": {},
     "output_type": "execute_result"
    }
   ],
   "source": [
    "m = len(node)\n",
    "m"
   ]
  },
  {
   "cell_type": "code",
   "execution_count": 4,
   "metadata": {},
   "outputs": [
    {
     "data": {
      "text/plain": [
       "array([[0, 1, 4],\n",
       "       [1, 2, 5],\n",
       "       [3, 4, 7],\n",
       "       [4, 5, 8],\n",
       "       [4, 3, 0],\n",
       "       [5, 4, 1],\n",
       "       [7, 6, 3],\n",
       "       [8, 7, 4]])"
      ]
     },
     "execution_count": 4,
     "metadata": {},
     "output_type": "execute_result"
    }
   ],
   "source": [
    "cell = cell.astype(int)\n",
    "cell"
   ]
  },
  {
   "cell_type": "code",
   "execution_count": 5,
   "metadata": {},
   "outputs": [
    {
     "data": {
      "text/plain": [
       "8"
      ]
     },
     "execution_count": 5,
     "metadata": {},
     "output_type": "execute_result"
    }
   ],
   "source": [
    "s = len(cell)\n",
    "s"
   ]
  },
  {
   "cell_type": "code",
   "execution_count": 6,
   "metadata": {},
   "outputs": [],
   "source": [
    "A = np.zeros((m,m))\n",
    "B = np.zeros((m,1))"
   ]
  },
  {
   "cell_type": "code",
   "execution_count": 7,
   "metadata": {},
   "outputs": [],
   "source": [
    "face = (h**2)/2   #均匀剖分，每个单元的面积为face\n",
    "\n",
    "for k in range(s):\n",
    "    \n",
    "    a0 = (node[cell[k,1],0]* node[cell[k,2],1] - node[cell[k,2],0]* node[cell[k,1],1])/(2*face)\n",
    "    \n",
    "    b0 = (node[cell[k,1],1] - node[cell[k,2],1])/(2*face)\n",
    "    \n",
    "    c0 = (node[cell[k,2],0] - node[cell[k,1],0])/(2*face)\n",
    "    \n",
    "\n",
    "    a1 = (node[cell[k,2],0]* node[cell[k,0],1] - node[cell[k,0],0]* node[cell[k,2],1])/(2*face)\n",
    "    \n",
    "    b1 = (node[cell[k,2],1] - node[cell[k,0],1])/(2*face)\n",
    "    \n",
    "    c1 = (node[cell[k,0],0] - node[cell[k,2],0])/(2*face)\n",
    "    \n",
    "\n",
    "    a2 = (node[cell[k,0],0]* node[cell[k,1],1] - node[cell[k,1],0]* node[cell[k,0],1])/(2*face)\n",
    "    \n",
    "    b2 = (node[cell[k,0],1] - node[cell[k,1],1])/(2*face)\n",
    "    \n",
    "    c2 = (node[cell[k,1],0] - node[cell[k,0],0])/(2*face)  \n",
    "   \n",
    "    A[cell[k,0],cell[k,0]] += (b0**2 + c0**2)*face   #组装刚度矩阵\n",
    "    A[cell[k,0],cell[k,1]] += (b0*b1 + c0*c1)*face \n",
    "    A[cell[k,0],cell[k,2]] += (b0*b2 + c0*c2)*face \n",
    "\n",
    "    A[cell[k,1],cell[k,0]] += (b1*b0 + c1*c0)*face    \n",
    "    A[cell[k,1],cell[k,1]] += (b1**2 + c1**2)*face \n",
    "    A[cell[k,1],cell[k,2]] += (b1*b2 + c1*c2)*face\n",
    "    \n",
    "    A[cell[k,2],cell[k,0]] += (b2*b0 + c2*c0)*face    \n",
    "    A[cell[k,2],cell[k,1]] += (b2*b1 + c2*c1)*face\n",
    "    A[cell[k,2],cell[k,2]] += (b2**2 + c2**2)*face \n",
    "    \n",
    "    \n",
    "    \n",
    "    mi0 = min(node[cell[k,0],0],node[cell[k,1],0],node[cell[k,2],0])  #求每个单元节点的最小横坐标\n",
    "    ma0 = max(node[cell[k,0],0],node[cell[k,1],0],node[cell[k,2],0])  #求每个单元节点的最大横坐标\n",
    "    \n",
    "    mi1 = min(node[cell[k,0],1],node[cell[k,1],1],node[cell[k,2],1])  #求每个单元节点的最小纵坐标\n",
    "    ma1 = max(node[cell[k,0],1],node[cell[k,1],1],node[cell[k,2],1])  #求每个单元节点的最大纵坐标\n",
    "    \n",
    "    def f0(x,y):\n",
    "        return (2*pi**2)*np.sin(pi*x)*np.sin(pi*y)*(a0+ b0*x+ c0*y)  #定义每个单元节点0的fai函数\n",
    "\n",
    "    def f1(x,y):\n",
    "        return (2*pi**2)*np.sin(pi*x)*np.sin(pi*y)*(a1+ b1*x+ c1*y) #定义每个单元节点1的fai函数\n",
    "\n",
    "    def f2(x,y):\n",
    "        return (2*pi**2)*np.sin(pi*x)*np.sin(pi*y)*(a2+ b2*x+ c2*y) #定义每个单元节点2的fai函数\n",
    "\n",
    "    \n",
    "    B[cell[k,0]] +=(h**2)*(f0(mi0,mi1)+f0(ma0,mi1)+f0(mi0,ma1)+f0(ma0,ma1))/4  #用梯形公式组装载荷向量\n",
    "    B[cell[k,1]] +=(h**2)*(f1(mi0,mi1)+f1(ma0,mi1)+f1(mi0,ma1)+f1(ma0,ma1))/4\n",
    "    B[cell[k,2]] +=(h**2)*(f2(mi0,mi1)+f2(ma0,mi1)+f2(mi0,ma1)+f2(ma0,ma1))/4"
   ]
  },
  {
   "cell_type": "code",
   "execution_count": 8,
   "metadata": {},
   "outputs": [
    {
     "data": {
      "text/plain": [
       "array([[ 1. , -0.5,  0. , -0.5,  0. ,  0. ,  0. ,  0. ,  0. ],\n",
       "       [-0.5,  2. , -0.5,  0. , -1. ,  0. ,  0. ,  0. ,  0. ],\n",
       "       [ 0. , -0.5,  1. ,  0. ,  0. , -0.5,  0. ,  0. ,  0. ],\n",
       "       [-0.5,  0. ,  0. ,  2. , -1. ,  0. , -0.5,  0. ,  0. ],\n",
       "       [ 0. , -1. ,  0. , -1. ,  4. , -1. ,  0. , -1. ,  0. ],\n",
       "       [ 0. ,  0. , -0.5,  0. , -1. ,  2. ,  0. ,  0. , -0.5],\n",
       "       [ 0. ,  0. ,  0. , -0.5,  0. ,  0. ,  1. , -0.5,  0. ],\n",
       "       [ 0. ,  0. ,  0. ,  0. , -1. ,  0. , -0.5,  2. , -0.5],\n",
       "       [ 0. ,  0. ,  0. ,  0. ,  0. , -0.5,  0. , -0.5,  1. ]])"
      ]
     },
     "execution_count": 8,
     "metadata": {},
     "output_type": "execute_result"
    }
   ],
   "source": [
    "A"
   ]
  },
  {
   "cell_type": "code",
   "execution_count": 9,
   "metadata": {},
   "outputs": [
    {
     "data": {
      "text/plain": [
       "2.4980018054066121e-15"
      ]
     },
     "execution_count": 9,
     "metadata": {},
     "output_type": "execute_result"
    }
   ],
   "source": [
    "np.linalg.det(A)"
   ]
  },
  {
   "cell_type": "code",
   "execution_count": 10,
   "metadata": {},
   "outputs": [
    {
     "data": {
      "text/plain": [
       "(9, 9)"
      ]
     },
     "execution_count": 10,
     "metadata": {},
     "output_type": "execute_result"
    }
   ],
   "source": [
    "np.shape(A)"
   ]
  },
  {
   "cell_type": "code",
   "execution_count": 11,
   "metadata": {},
   "outputs": [
    {
     "data": {
      "text/plain": [
       "array([[  0.00000000e+00],\n",
       "       [  1.23370055e+00],\n",
       "       [ -1.23370055e+00],\n",
       "       [  1.23370055e+00],\n",
       "       [  7.40220330e+00],\n",
       "       [  1.23370055e+00],\n",
       "       [ -1.23370055e+00],\n",
       "       [  1.23370055e+00],\n",
       "       [  3.02169486e-16]])"
      ]
     },
     "execution_count": 11,
     "metadata": {},
     "output_type": "execute_result"
    }
   ],
   "source": [
    "B"
   ]
  },
  {
   "cell_type": "code",
   "execution_count": 12,
   "metadata": {},
   "outputs": [
    {
     "data": {
      "text/plain": [
       "matrix([[  1.77794987e+16],\n",
       "        [  1.77794987e+16],\n",
       "        [  1.77794987e+16],\n",
       "        [  1.77794987e+16],\n",
       "        [  1.77794987e+16],\n",
       "        [  1.77794987e+16],\n",
       "        [  1.77794987e+16],\n",
       "        [  1.77794987e+16],\n",
       "        [  1.77794987e+16]])"
      ]
     },
     "execution_count": 12,
     "metadata": {},
     "output_type": "execute_result"
    }
   ],
   "source": [
    "(np.mat(A).I)*(np.mat(B))"
   ]
  },
  {
   "cell_type": "code",
   "execution_count": 13,
   "metadata": {},
   "outputs": [
    {
     "data": {
      "text/plain": [
       "array([[  1.77794987e+16],\n",
       "       [  1.77794987e+16],\n",
       "       [  1.77794987e+16],\n",
       "       [  1.77794987e+16],\n",
       "       [  1.77794987e+16],\n",
       "       [  1.77794987e+16],\n",
       "       [  1.77794987e+16],\n",
       "       [  1.77794987e+16],\n",
       "       [  1.77794987e+16]])"
      ]
     },
     "execution_count": 13,
     "metadata": {},
     "output_type": "execute_result"
    }
   ],
   "source": [
    "A1 = np.linalg.inv(A)\n",
    "np.dot(A1,B)"
   ]
  },
  {
   "cell_type": "code",
   "execution_count": 14,
   "metadata": {},
   "outputs": [
    {
     "data": {
      "text/plain": [
       "9"
      ]
     },
     "execution_count": 14,
     "metadata": {},
     "output_type": "execute_result"
    }
   ],
   "source": [
    "len((np.mat(A).I)*(np.mat(B)))"
   ]
  },
  {
   "cell_type": "code",
   "execution_count": 15,
   "metadata": {},
   "outputs": [
    {
     "data": {
      "text/plain": [
       "array([ 0. ,  0.5,  1. ,  0. ,  0.5,  1. ,  0. ,  0.5,  1. ])"
      ]
     },
     "execution_count": 15,
     "metadata": {},
     "output_type": "execute_result"
    }
   ],
   "source": [
    "g = node[:,0]\n",
    "g"
   ]
  },
  {
   "cell_type": "code",
   "execution_count": 16,
   "metadata": {},
   "outputs": [
    {
     "data": {
      "text/plain": [
       "array([ 0. ,  0. ,  0. ,  0.5,  0.5,  0.5,  1. ,  1. ,  1. ])"
      ]
     },
     "execution_count": 16,
     "metadata": {},
     "output_type": "execute_result"
    }
   ],
   "source": [
    "h = node[:,1]\n",
    "h"
   ]
  },
  {
   "cell_type": "code",
   "execution_count": 17,
   "metadata": {},
   "outputs": [],
   "source": [
    "def u(x,y):\n",
    "    return np.sin(pi*x)*np.sin(pi*y)  #真解"
   ]
  },
  {
   "cell_type": "code",
   "execution_count": 18,
   "metadata": {},
   "outputs": [
    {
     "name": "stdout",
     "output_type": "stream",
     "text": [
      "0.0\n",
      "0.0\n",
      "0.0\n",
      "0.0\n",
      "1.0\n",
      "1.22464679915e-16\n",
      "0.0\n",
      "1.22464679915e-16\n",
      "1.49975978266e-32\n"
     ]
    }
   ],
   "source": [
    "for i in range(m):\n",
    "    print(u(g[i],h[i]))"
   ]
  },
  {
   "cell_type": "code",
   "execution_count": null,
   "metadata": {},
   "outputs": [],
   "source": []
  }
 ],
 "metadata": {
  "kernelspec": {
   "display_name": "Python 3",
   "language": "python",
   "name": "python3"
  },
  "language_info": {
   "codemirror_mode": {
    "name": "ipython",
    "version": 3
   },
   "file_extension": ".py",
   "mimetype": "text/x-python",
   "name": "python",
   "nbconvert_exporter": "python",
   "pygments_lexer": "ipython3",
   "version": "3.6.6"
  }
 },
 "nbformat": 4,
 "nbformat_minor": 2
}
