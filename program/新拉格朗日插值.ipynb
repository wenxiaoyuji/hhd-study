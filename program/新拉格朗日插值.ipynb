{
 "cells": [
  {
   "cell_type": "code",
   "execution_count": 34,
   "metadata": {
    "collapsed": true
   },
   "outputs": [],
   "source": [
    "import numpy as np\n",
    "\n",
    "def Lagrange(x,y,z):  #  定义拉格朗日插值多项式\n",
    "    sum=[ ]\n",
    "    n = len(x)\n",
    "    m = len(z)\n",
    "    for j in range(m):\n",
    "        la=0\n",
    "        for k in range(n):\n",
    "            \n",
    "            def L(k):   # 定义嵌套函数l_k(x)  \n",
    "                t=1\n",
    "                for i in range(n):\n",
    "                    if i!=k:\n",
    "                        t=t*(z[j]-x[i])/(x[k]-x[i])\n",
    "                    else:\n",
    "                        t=t\n",
    "                return t\n",
    "            \n",
    "            la=la+y[k]*L(k)\n",
    "            \n",
    "        sum.append(la)\n",
    "        \n",
    "    return sum\n",
    "\n",
    "def fl(x, y, z):\n",
    "    n = len(x)\n",
    "    X = x.reshape(-1, 1) - x\n",
    "    idx = np.arange(n)\n",
    "    X[idx, idx] = 1\n",
    "    l0 = X.prod(axis=1)\n",
    "    S = z.reshape(-1, 1) - x\n",
    "    S = np.repeat(s, n, axis=0).reshape(-1, n, n)\n",
    "    S[:, idx, idx] = 1\n",
    "    l1 = S.prod(axis=-1)\n",
    "    f = np.sum(l1/l0*y, axis=-1)\n",
    "    return f"
   ]
  },
  {
   "cell_type": "code",
   "execution_count": 42,
   "metadata": {
    "collapsed": true
   },
   "outputs": [],
   "source": [
    "x = np.array([0.32,0.34,0.36])\n",
    "y = np.array([0.314567,0.333487,0.352274])\n",
    "n = len(x)\n",
    "z = np.array([0.33, 0.35])"
   ]
  },
  {
   "cell_type": "code",
   "execution_count": 38,
   "metadata": {
    "collapsed": false
   },
   "outputs": [
    {
     "name": "stdout",
     "output_type": "stream",
     "text": [
      "[[ 1.   -0.02 -0.04]\n",
      " [ 0.02  1.   -0.02]\n",
      " [ 0.04  0.02  1.  ]]\n"
     ]
    }
   ],
   "source": [
    "\n",
    "print(X)"
   ]
  },
  {
   "cell_type": "code",
   "execution_count": 39,
   "metadata": {
    "collapsed": false
   },
   "outputs": [
    {
     "name": "stdout",
     "output_type": "stream",
     "text": [
      "[ 0.0008 -0.0004  0.0008]\n"
     ]
    }
   ],
   "source": [
    "l0 = X.prod(axis=1)\n",
    "print(l0)"
   ]
  },
  {
   "cell_type": "code",
   "execution_count": 40,
   "metadata": {
    "collapsed": false
   },
   "outputs": [
    {
     "name": "stdout",
     "output_type": "stream",
     "text": [
      "[ 0.32404363  0.34289712]\n"
     ]
    }
   ],
   "source": [
    "s = z.reshape(-1, 1) - x\n",
    "n = len(x)\n",
    "s = np.repeat(s, n, axis=0).reshape(-1, n, n)\n",
    "s[:, idx, idx] = 1\n",
    "l1 = s.prod(axis=-1)\n",
    "f = np.sum(l1/l0*y, axis=-1)\n",
    "print(f)\n"
   ]
  },
  {
   "cell_type": "code",
   "execution_count": 44,
   "metadata": {
    "collapsed": false
   },
   "outputs": [
    {
     "data": {
      "text/plain": [
       "[0.324043625, 0.34289712499999991]"
      ]
     },
     "execution_count": 44,
     "metadata": {},
     "output_type": "execute_result"
    }
   ],
   "source": [
    "Lagrange(x,y,z)"
   ]
  },
  {
   "cell_type": "code",
   "execution_count": 43,
   "metadata": {
    "collapsed": false
   },
   "outputs": [
    {
     "data": {
      "text/plain": [
       "[0.324043625, 0.34289712499999991]"
      ]
     },
     "execution_count": 43,
     "metadata": {},
     "output_type": "execute_result"
    }
   ],
   "source": [
    "Lagrange(x,y,z)"
   ]
  },
  {
   "cell_type": "code",
   "execution_count": null,
   "metadata": {
    "collapsed": true
   },
   "outputs": [],
   "source": []
  }
 ],
 "metadata": {
  "kernelspec": {
   "display_name": "Python 3",
   "language": "python",
   "name": "python3"
  },
  "language_info": {
   "codemirror_mode": {
    "name": "ipython",
    "version": 3
   },
   "file_extension": ".py",
   "mimetype": "text/x-python",
   "name": "python",
   "nbconvert_exporter": "python",
   "pygments_lexer": "ipython3",
   "version": "3.5.2"
  },
  "latex_envs": {
   "bibliofile": "biblio.bib",
   "cite_by": "apalike",
   "current_citInitial": 1,
   "eqLabelWithNumbers": true,
   "eqNumInitial": 0
  }
 },
 "nbformat": 4,
 "nbformat_minor": 2
}
