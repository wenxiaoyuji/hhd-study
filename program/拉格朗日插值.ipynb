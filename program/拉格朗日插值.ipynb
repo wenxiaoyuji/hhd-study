{
 "cells": [
  {
   "cell_type": "code",
   "execution_count": 13,
   "metadata": {},
   "outputs": [],
   "source": [
    "def Lagrange(x,y,z):  #  定义拉格朗日插值多项式\n",
    "    sum=0\n",
    "    n=len(x)\n",
    "    for k in range(n):\n",
    "        \n",
    "        def L(k):   # 定义嵌套函数l_k(x)  \n",
    "            t=1\n",
    "            \n",
    "            for i in range(n):\n",
    "                if i!=k:\n",
    "                    t=t*(z-x[i])/(x[k]-x[i])\n",
    "                else:\n",
    "                    t=t\n",
    "            return t\n",
    "            \n",
    "        sum=sum+y[k]*L(k)\n",
    "    return sum\n"
   ]
  },
  {
   "cell_type": "code",
   "execution_count": 14,
   "metadata": {},
   "outputs": [],
   "source": [
    "x=[0.32,0.34,0.36]\n",
    "y=[0.314567,0.333487,0.352274]\n",
    "z=0.3367"
   ]
  },
  {
   "cell_type": "code",
   "execution_count": 15,
   "metadata": {},
   "outputs": [
    {
     "data": {
      "text/plain": [
       "0.3303743620374999"
      ]
     },
     "execution_count": 15,
     "metadata": {},
     "output_type": "execute_result"
    }
   ],
   "source": [
    "Lagrange(x,y,z)"
   ]
  },
  {
   "cell_type": "code",
   "execution_count": 17,
   "metadata": {},
   "outputs": [
    {
     "data": {
      "text/plain": [
       "0.8267938380156361"
      ]
     },
     "execution_count": 17,
     "metadata": {},
     "output_type": "execute_result"
    }
   ],
   "source": [
    "x=[0.56160,0.56280,0.56401,0.56521]\n",
    "y=[0.82741,0.82659,0.82577,0.82495]\n",
    "z=0.5625\n",
    "Lagrange(x,y,z)"
   ]
  },
  {
   "cell_type": "code",
   "execution_count": null,
   "metadata": {},
   "outputs": [],
   "source": []
  }
 ],
 "metadata": {
  "kernelspec": {
   "display_name": "Python 3",
   "language": "python",
   "name": "python3"
  },
  "language_info": {
   "codemirror_mode": {
    "name": "ipython",
    "version": 3
   },
   "file_extension": ".py",
   "mimetype": "text/x-python",
   "name": "python",
   "nbconvert_exporter": "python",
   "pygments_lexer": "ipython3",
   "version": "3.6.5"
  }
 },
 "nbformat": 4,
 "nbformat_minor": 2
}
