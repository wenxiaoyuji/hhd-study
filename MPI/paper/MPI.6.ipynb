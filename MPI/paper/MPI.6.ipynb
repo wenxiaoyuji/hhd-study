{
 "cells": [
  {
   "cell_type": "markdown",
   "metadata": {},
   "source": [
    "# 最后的内容\n",
    "### 问题\n",
    "● mpi4py的其他重要方面是什么？\n",
    "### 目标\n",
    "● 了解mpi4py如何处理不同类型的数据。"
   ]
  },
  {
   "cell_type": "markdown",
   "metadata": {},
   "source": [
    "# buffer-like对象的通信\n",
    "在使用方法的大写形式（Send，Irecv，Gather等）时，数据对象必须支持单段缓冲接口。这个接口是由某些类型提供的标准Python机制（例如，字符串和数字数组），这就是为什么我们在例子中使用NumPy数组的原因。"
   ]
  },
  {
   "cell_type": "markdown",
   "metadata": {},
   "source": [
    "# 通用Python对象的通信\n",
    "也可以使用方法的小写形式（send，irecv，gather等）来传输任意的Python数据类型，mpi4py将序列化数据类型，将其发送到远程进程，然后将其反序列化回原始数据类型（一个称为pickling和unpickle的过程）。虽然这很简单，但它也增加了MPI操作的负荷。"
   ]
  },
  {
   "cell_type": "markdown",
   "metadata": {},
   "source": [
    "# 补充信息\n",
    "还有许多其他的MPI操作，我们在这里没有涉及到。如果您感兴趣的话，请参考http://mpi4py.readthedocs.io/en/stable/index.html"
   ]
  },
  {
   "cell_type": "markdown",
   "metadata": {},
   "source": [
    "# ！关键点\n",
    "● mpi4py提供了不同的方法来处理buffer-like和通用类对象。"
   ]
  }
 ],
 "metadata": {
  "kernelspec": {
   "display_name": "Python 3",
   "language": "python",
   "name": "python3"
  },
  "language_info": {
   "codemirror_mode": {
    "name": "ipython",
    "version": 3
   },
   "file_extension": ".py",
   "mimetype": "text/x-python",
   "name": "python",
   "nbconvert_exporter": "python",
   "pygments_lexer": "ipython3",
   "version": "3.6.4"
  }
 },
 "nbformat": 4,
 "nbformat_minor": 2
}
