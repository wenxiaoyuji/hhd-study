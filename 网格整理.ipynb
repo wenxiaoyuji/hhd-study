{
 "cells": [
  {
   "cell_type": "markdown",
   "metadata": {},
   "source": [
    "# 网格的基本数据结构"
   ]
  },
  {
   "cell_type": "markdown",
   "metadata": {},
   "source": [
    "下面介绍在二维平面上的三角形网格、四边形网格，以及三维空间中的四面体网格，六面体网格；在Python中，为了表示这些网格，需要用到矩阵cell和node，其中node储存这些节点的坐标，用cell储存构成这些单元网格的节点。"
   ]
  },
  {
   "cell_type": "markdown",
   "metadata": {},
   "source": [
    "## 三角形\n",
    "\n",
    "首先我们先将所有节点从0开始标注，然后再标记我们的网格，一般我们从逆时针开始，有时为了方便，我们也会再加强一下要求，例如下面三角形网格，我们规定从直角的节点开始。"
   ]
  },
  {
   "cell_type": "markdown",
   "metadata": {},
   "source": [
    "![image.png](./figures/tri.png)"
   ]
  },
  {
   "cell_type": "markdown",
   "metadata": {},
   "source": [
    "如图所示，一共有8个三角形，分别记为K0，K1，K2，K3，K4，K5，K6，K7。\n",
    "\n",
    "```python\n",
    "node = np.array([ [0,0],\n",
    "                  [1,0],\n",
    "                  [2,0],\n",
    "                  [0,1],\n",
    "                  [1,1],\n",
    "                  [2,1],\n",
    "                  [0,2],\n",
    "                  [1,2],\n",
    "                  [2,2] ])\n",
    "\n",
    "cell = np.array([ [3,0,4],\n",
    "                  [1,4,0],\n",
    "                  [4,1,5],\n",
    "                  [2,5,1],\n",
    "                  [6,3,7],\n",
    "                  [4,7,3],\n",
    "                  [7,4,8],\n",
    "                  [5,8,4] ])\n",
    "```"
   ]
  },
  {
   "cell_type": "markdown",
   "metadata": {},
   "source": [
    "## 四边形"
   ]
  },
  {
   "cell_type": "markdown",
   "metadata": {},
   "source": [
    "![image.png](./figures/quad.png)"
   ]
  },
  {
   "cell_type": "markdown",
   "metadata": {},
   "source": [
    "如图所示，一共有4个四边形，分别记为J0，J1，J2，J3。\n",
    "\n",
    "\n",
    "```python\n",
    "node = np.array([ [0,0],\n",
    "                  [1,0],\n",
    "                  [2,0],\n",
    "                  [0,1],\n",
    "                  [1,1],\n",
    "                  [2,1],\n",
    "                  [0,2],\n",
    "                  [1,2],\n",
    "                  [2,2] ])\n",
    "\n",
    "cell = np.array([ [0,1,4,3],\n",
    "                  [1,2,5,4],\n",
    "                  [3,4,7,6],\n",
    "                  [4,5,8,7] ])\n",
    "```"
   ]
  },
  {
   "cell_type": "markdown",
   "metadata": {},
   "source": [
    "## 六面体"
   ]
  },
  {
   "cell_type": "markdown",
   "metadata": {},
   "source": [
    "![image.png](./figures/hex.png)"
   ]
  },
  {
   "cell_type": "markdown",
   "metadata": {},
   "source": [
    "如图所示，一共有4个六面体，分别记为Z0，Z1，Z2，Z3。\n",
    "\n",
    "```python\n",
    "node = np.array([ [0,0,0],\n",
    "                  [1,0,0],\n",
    "                  [1,1,0],\n",
    "                  [1,2,0],\n",
    "                  [0,2,0],\n",
    "                  [0,1,0],\n",
    "                  [0,0,1],\n",
    "                  [1,0,1], \n",
    "                  [1,1,1],\n",
    "                  [1,2,1],\n",
    "                  [0,2,1],\n",
    "                  [0,1,1],\n",
    "                  [0,0,2],\n",
    "                  [1,0,2],\n",
    "                  [1,1,2],\n",
    "                  [1,2,2],\n",
    "                  [0,2,2] ])\n",
    "\n",
    "cell = np.array([ [0,1,2,5,6,7,8,11],\n",
    "                  [5,2,3,4,11,8,9,10],\n",
    "                  [6,7,8,11,12,13,14,17],\n",
    "                  [11,8,9,10,17,14,15,16] ])\n",
    "```"
   ]
  },
  {
   "cell_type": "markdown",
   "metadata": {},
   "source": [
    "## 四面体"
   ]
  },
  {
   "cell_type": "markdown",
   "metadata": {},
   "source": [
    "![image.png](./figures/tet.png)"
   ]
  },
  {
   "cell_type": "markdown",
   "metadata": {},
   "source": [
    "![image.png](./figures/trione.png)"
   ]
  },
  {
   "cell_type": "markdown",
   "metadata": {},
   "source": [
    "如图所示，一共有6个四面体，分别记为S0，S1，S2，S3，S4，S5。\n",
    "\n",
    "```python\n",
    "node = np.array([ [0,0,0],\n",
    "                  [1,0,0],\n",
    "                  [1,1,0],\n",
    "                  [0,1,0],\n",
    "                  [1,0,1],\n",
    "                  [1,1,1],\n",
    "                  [0,1,1],\n",
    "                  [0,0,1] ])\n",
    "\n",
    "cell = np.array([ [0,1,2,5],\n",
    "                  [7,5,2,6],\n",
    "                  [4,2,5,0],\n",
    "                  [3,0,2,7],\n",
    "                  [5,4,7,0],\n",
    "                  [5,7,2,0] ])\n",
    "```"
   ]
  }
 ],
 "metadata": {
  "kernelspec": {
   "display_name": "Python 3",
   "language": "python",
   "name": "python3"
  },
  "language_info": {
   "codemirror_mode": {
    "name": "ipython",
    "version": 3
   },
   "file_extension": ".py",
   "mimetype": "text/x-python",
   "name": "python",
   "nbconvert_exporter": "python",
   "pygments_lexer": "ipython3",
   "version": "3.6.5"
  },
  "latex_envs": {
   "bibliofile": "biblio.bib",
   "cite_by": "apalike",
   "current_citInitial": 1,
   "eqLabelWithNumbers": true,
   "eqNumInitial": 0
  }
 },
 "nbformat": 4,
 "nbformat_minor": 2
}
